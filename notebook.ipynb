{
 "cells": [
  {
   "cell_type": "markdown",
   "metadata": {},
   "source": [
    "#\n",
    "<h1 style=\"font-size:250%; color:tomato; font-family:cursive;\"> Comprehensive 2D Plotting Guide with Matplotlib</h1>"
   ]
  },
  {
   "cell_type": "markdown",
   "metadata": {},
   "source": [
    "#\n",
    "<h1 style=\"font-size:200%; color:tomato; font-family:cursive;\"> Table of contents</h1>\n",
    "\n",
    "| Sn | Content |\n",
    "|---|---|\n",
    "| 1. |[Introduction](#Introduction)|\n",
    "| 2. | |\n",
    "| 3. | |\n",
    "| 4. | |\n",
    "| 5. | |\n",
    "| 6. | |\n",
    "| 7. | |\n",
    "| 8. | |\n",
    "| 9. | |\n",
    "| 10. | |\n"
   ]
  },
  {
   "cell_type": "markdown",
   "metadata": {},
   "source": [
    "#\n",
    "<a id=\"Introduction\"></a>\n",
    "<h1 style=\"font-size:200%; color:#d87cff; font-family:cursive;\"> 1. Introduction</h1>"
   ]
  },
  {
   "cell_type": "markdown",
   "metadata": {},
   "source": [
    "Matplotlib is a powerful visualization library in Python that provides a variety of plotting capabilities. This guide demonstrates how to create essential 2D plots, explains their purposes, and provides sample code and outputs. <br>\n",
    "Matplotlib = matlab + plot + library (Matlab-like plotting library) <br>\n",
    "\n",
    "For detail information about Matplotlib, please visit the official documentation: [Matplotlib](https://matplotlib.org/stable/index.html \"goto documentation\")\n",
    "\n",
    "### Motivation \n",
    "The purpose of this guide is to provide a comprehensive overview of the most common 2D plots and their applications. This guide is intended for beginners who are new to data visualization and want to learn how to create basic plots using Matplotlib. Additionally, a Streamlit platform is used to create interactive plots where you can upload your dataset and generate plots between desired columns without writing any code.\n",
    "\n"
   ]
  },
  {
   "cell_type": "markdown",
   "metadata": {},
   "source": []
  }
 ],
 "metadata": {
  "kernelspec": {
   "display_name": "data_visual",
   "language": "python",
   "name": "python3"
  },
  "language_info": {
   "codemirror_mode": {
    "name": "ipython",
    "version": 3
   },
   "file_extension": ".py",
   "mimetype": "text/x-python",
   "name": "python",
   "nbconvert_exporter": "python",
   "pygments_lexer": "ipython3",
   "version": "3.12.8"
  }
 },
 "nbformat": 4,
 "nbformat_minor": 2
}
